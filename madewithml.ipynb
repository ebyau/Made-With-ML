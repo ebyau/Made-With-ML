{
 "cells": [
  {
   "cell_type": "markdown",
   "id": "e276b559",
   "metadata": {},
   "source": [
    "# **Ray**\n",
    "We'll be using Ray to scale and productionize our ML application.   \n",
    "We're going to start by initializing Ray inside our notebooks:"
   ]
  },
  {
   "cell_type": "code",
   "execution_count": 1,
   "id": "f18cbc5e",
   "metadata": {},
   "outputs": [
    {
     "name": "stderr",
     "output_type": "stream",
     "text": [
      "2025-04-11 22:40:41,383\tINFO worker.py:1633 -- Started a local Ray instance. View the dashboard at \u001b[1m\u001b[32m127.0.0.1:8265 \u001b[39m\u001b[22m\n"
     ]
    },
    {
     "data": {
      "application/vnd.jupyter.widget-view+json": {
       "model_id": "2c580760102f48a88a6383695358a11e",
       "version_major": 2,
       "version_minor": 0
      },
      "text/html": [
       "<div class=\"lm-Widget p-Widget lm-Panel p-Panel jp-Cell-outputWrapper\">\n",
       "    <div style=\"margin-left: 50px;display: flex;flex-direction: row;align-items: center\">\n",
       "        <div class=\"jp-RenderedHTMLCommon\" style=\"display: flex; flex-direction: row;\">\n",
       "  <svg viewBox=\"0 0 567 224\" fill=\"none\" xmlns=\"http://www.w3.org/2000/svg\" style=\"height: 3em;\">\n",
       "    <g clip-path=\"url(#clip0_4338_178347)\">\n",
       "        <path d=\"M341.29 165.561H355.29L330.13 129.051C345.63 123.991 354.21 112.051 354.21 94.2307C354.21 71.3707 338.72 58.1807 311.88 58.1807H271V165.561H283.27V131.661H311.8C314.25 131.661 316.71 131.501 319.01 131.351L341.25 165.561H341.29ZM283.29 119.851V70.0007H311.82C331.3 70.0007 342.34 78.2907 342.34 94.5507C342.34 111.271 331.34 119.861 311.82 119.861L283.29 119.851ZM451.4 138.411L463.4 165.561H476.74L428.74 58.1807H416L367.83 165.561H380.83L392.83 138.411H451.4ZM446.19 126.601H398L422 72.1407L446.24 126.601H446.19ZM526.11 128.741L566.91 58.1807H554.35L519.99 114.181L485.17 58.1807H472.44L514.01 129.181V165.541H526.13V128.741H526.11Z\" fill=\"var(--jp-ui-font-color0)\"/>\n",
       "        <path d=\"M82.35 104.44C84.0187 97.8827 87.8248 92.0678 93.1671 87.9146C98.5094 83.7614 105.083 81.5067 111.85 81.5067C118.617 81.5067 125.191 83.7614 130.533 87.9146C135.875 92.0678 139.681 97.8827 141.35 104.44H163.75C164.476 101.562 165.622 98.8057 167.15 96.2605L127.45 56.5605C121.071 60.3522 113.526 61.6823 106.235 60.3005C98.9443 58.9187 92.4094 54.9203 87.8602 49.0574C83.3109 43.1946 81.0609 35.8714 81.5332 28.4656C82.0056 21.0599 85.1679 14.0819 90.4252 8.8446C95.6824 3.60726 102.672 0.471508 110.08 0.0272655C117.487 -0.416977 124.802 1.86091 130.647 6.4324C136.493 11.0039 140.467 17.5539 141.821 24.8501C143.175 32.1463 141.816 39.6859 138 46.0505L177.69 85.7505C182.31 82.9877 187.58 81.4995 192.962 81.4375C198.345 81.3755 203.648 82.742 208.33 85.3976C213.012 88.0532 216.907 91.9029 219.616 96.5544C222.326 101.206 223.753 106.492 223.753 111.875C223.753 117.258 222.326 122.545 219.616 127.197C216.907 131.848 213.012 135.698 208.33 138.353C203.648 141.009 198.345 142.375 192.962 142.313C187.58 142.251 182.31 140.763 177.69 138L138 177.7C141.808 184.071 143.155 191.614 141.79 198.91C140.424 206.205 136.44 212.75 130.585 217.313C124.731 221.875 117.412 224.141 110.004 223.683C102.596 223.226 95.6103 220.077 90.3621 214.828C85.1139 209.58 81.9647 202.595 81.5072 195.187C81.0497 187.779 83.3154 180.459 87.878 174.605C92.4405 168.751 98.9853 164.766 106.281 163.401C113.576 162.035 121.119 163.383 127.49 167.19L167.19 127.49C165.664 124.941 164.518 122.182 163.79 119.3H141.39C139.721 125.858 135.915 131.673 130.573 135.826C125.231 139.98 118.657 142.234 111.89 142.234C105.123 142.234 98.5494 139.98 93.2071 135.826C87.8648 131.673 84.0587 125.858 82.39 119.3H60C58.1878 126.495 53.8086 132.78 47.6863 136.971C41.5641 141.163 34.1211 142.972 26.7579 142.059C19.3947 141.146 12.6191 137.574 7.70605 132.014C2.79302 126.454 0.0813599 119.29 0.0813599 111.87C0.0813599 104.451 2.79302 97.2871 7.70605 91.7272C12.6191 86.1673 19.3947 82.5947 26.7579 81.6817C34.1211 80.7686 41.5641 82.5781 47.6863 86.7696C53.8086 90.9611 58.1878 97.2456 60 104.44H82.35ZM100.86 204.32C103.407 206.868 106.759 208.453 110.345 208.806C113.93 209.159 117.527 208.258 120.522 206.256C123.517 204.254 125.725 201.276 126.771 197.828C127.816 194.38 127.633 190.677 126.253 187.349C124.874 184.021 122.383 181.274 119.205 179.577C116.027 177.88 112.359 177.337 108.826 178.042C105.293 178.746 102.113 180.654 99.8291 183.44C97.5451 186.226 96.2979 189.718 96.3 193.32C96.2985 195.364 96.7006 197.388 97.4831 199.275C98.2656 201.163 99.4132 202.877 100.86 204.32ZM204.32 122.88C206.868 120.333 208.453 116.981 208.806 113.396C209.159 109.811 208.258 106.214 206.256 103.219C204.254 100.223 201.275 98.0151 197.827 96.97C194.38 95.9249 190.676 96.1077 187.348 97.4873C184.02 98.8669 181.274 101.358 179.577 104.536C177.879 107.714 177.337 111.382 178.041 114.915C178.746 118.448 180.653 121.627 183.439 123.911C186.226 126.195 189.717 127.443 193.32 127.44C195.364 127.443 197.388 127.042 199.275 126.259C201.163 125.476 202.878 124.328 204.32 122.88ZM122.88 19.4205C120.333 16.8729 116.981 15.2876 113.395 14.9347C109.81 14.5817 106.213 15.483 103.218 17.4849C100.223 19.4868 98.0146 22.4654 96.9696 25.9131C95.9245 29.3608 96.1073 33.0642 97.4869 36.3922C98.8665 39.7202 101.358 42.4668 104.535 44.1639C107.713 45.861 111.381 46.4036 114.914 45.6992C118.447 44.9949 121.627 43.0871 123.911 40.301C126.195 37.515 127.442 34.0231 127.44 30.4205C127.44 28.3772 127.038 26.3539 126.255 24.4664C125.473 22.5788 124.326 20.8642 122.88 19.4205ZM19.42 100.86C16.8725 103.408 15.2872 106.76 14.9342 110.345C14.5813 113.93 15.4826 117.527 17.4844 120.522C19.4863 123.518 22.4649 125.726 25.9127 126.771C29.3604 127.816 33.0638 127.633 36.3918 126.254C39.7198 124.874 42.4664 122.383 44.1635 119.205C45.8606 116.027 46.4032 112.359 45.6988 108.826C44.9944 105.293 43.0866 102.114 40.3006 99.8296C37.5145 97.5455 34.0227 96.2983 30.42 96.3005C26.2938 96.3018 22.337 97.9421 19.42 100.86ZM100.86 100.86C98.3125 103.408 96.7272 106.76 96.3742 110.345C96.0213 113.93 96.9226 117.527 98.9244 120.522C100.926 123.518 103.905 125.726 107.353 126.771C110.8 127.816 114.504 127.633 117.832 126.254C121.16 124.874 123.906 122.383 125.604 119.205C127.301 116.027 127.843 112.359 127.139 108.826C126.434 105.293 124.527 102.114 121.741 99.8296C118.955 97.5455 115.463 96.2983 111.86 96.3005C109.817 96.299 107.793 96.701 105.905 97.4835C104.018 98.2661 102.303 99.4136 100.86 100.86Z\" fill=\"#00AEEF\"/>\n",
       "    </g>\n",
       "    <defs>\n",
       "        <clipPath id=\"clip0_4338_178347\">\n",
       "            <rect width=\"566.93\" height=\"223.75\" fill=\"white\"/>\n",
       "        </clipPath>\n",
       "    </defs>\n",
       "  </svg>\n",
       "</div>\n",
       "\n",
       "        <table class=\"jp-RenderedHTMLCommon\" style=\"border-collapse: collapse;color: var(--jp-ui-font-color1);font-size: var(--jp-ui-font-size1);\">\n",
       "    <tr>\n",
       "        <td style=\"text-align: left\"><b>Python version:</b></td>\n",
       "        <td style=\"text-align: left\"><b>3.10.11</b></td>\n",
       "    </tr>\n",
       "    <tr>\n",
       "        <td style=\"text-align: left\"><b>Ray version:</b></td>\n",
       "        <td style=\"text-align: left\"><b>2.7.0</b></td>\n",
       "    </tr>\n",
       "    <tr>\n",
       "    <td style=\"text-align: left\"><b>Dashboard:</b></td>\n",
       "    <td style=\"text-align: left\"><b><a href=\"http://127.0.0.1:8265\" target=\"_blank\">http://127.0.0.1:8265</a></b></td>\n",
       "</tr>\n",
       "\n",
       "</table>\n",
       "\n",
       "    </div>\n",
       "</div>\n"
      ],
      "text/plain": [
       "RayContext(dashboard_url='127.0.0.1:8265', python_version='3.10.11', ray_version='2.7.0', ray_commit='b4bba4717f5ba04ee25580fe8f88eed63ef0c5dc', protocol_version=None)"
      ]
     },
     "execution_count": 1,
     "metadata": {},
     "output_type": "execute_result"
    }
   ],
   "source": [
    "import ray\n",
    "# Initialize Ray\t\n",
    "if ray.is_initialized():\n",
    "    ray.shutdown()\n",
    "ray.init()"
   ]
  },
  {
   "cell_type": "markdown",
   "id": "4a97b5c3",
   "metadata": {},
   "source": [
    "We can also view our cluster resources to view the available compute resources:"
   ]
  },
  {
   "cell_type": "code",
   "execution_count": 2,
   "id": "efd5de7c",
   "metadata": {},
   "outputs": [
    {
     "data": {
      "text/plain": [
       "{'CPU': 12.0,\n",
       " 'memory': 500298548.0,\n",
       " 'node:127.0.0.1': 1.0,\n",
       " 'object_store_memory': 250149273.0,\n",
       " 'node:__internal_head__': 1.0,\n",
       " 'GPU': 1.0}"
      ]
     },
     "execution_count": 2,
     "metadata": {},
     "output_type": "execute_result"
    }
   ],
   "source": [
    "\n",
    "ray.cluster_resources()"
   ]
  },
  {
   "cell_type": "markdown",
   "id": "0f3043a6",
   "metadata": {},
   "source": [
    "# **2. Data**  \n"
   ]
  },
  {
   "cell_type": "markdown",
   "id": "f854f6b1",
   "metadata": {},
   "source": [
    "## **2.1 Data Preparation**\n",
    "Preparing our dataset by ingesting and splitting it.  \n",
    "We'll start by first preparing our data by ingesting it from source and splitting it into training, validation and test data splits."
   ]
  },
  {
   "cell_type": "markdown",
   "id": "491e4e62",
   "metadata": {},
   "source": [
    "### **2.1.1 Ingestion**  \n",
    "Our data could reside in many different places (databases, files, etc.) and exist in different formats (CSV, JSON, Parquet, etc.). For our application, we'll load the data from a CSV file to a `Pandas DataFrame` using the `read_csv` function."
   ]
  },
  {
   "cell_type": "code",
   "execution_count": 3,
   "id": "c1d2f47c",
   "metadata": {},
   "outputs": [
    {
     "data": {
      "text/html": [
       "<div>\n",
       "<style scoped>\n",
       "    .dataframe tbody tr th:only-of-type {\n",
       "        vertical-align: middle;\n",
       "    }\n",
       "\n",
       "    .dataframe tbody tr th {\n",
       "        vertical-align: top;\n",
       "    }\n",
       "\n",
       "    .dataframe thead th {\n",
       "        text-align: right;\n",
       "    }\n",
       "</style>\n",
       "<table border=\"1\" class=\"dataframe\">\n",
       "  <thead>\n",
       "    <tr style=\"text-align: right;\">\n",
       "      <th></th>\n",
       "      <th>id</th>\n",
       "      <th>created_on</th>\n",
       "      <th>title</th>\n",
       "      <th>description</th>\n",
       "      <th>tag</th>\n",
       "    </tr>\n",
       "  </thead>\n",
       "  <tbody>\n",
       "    <tr>\n",
       "      <th>0</th>\n",
       "      <td>6</td>\n",
       "      <td>2020-02-20 06:43:18</td>\n",
       "      <td>Comparison between YOLO and RCNN on real world...</td>\n",
       "      <td>Bringing theory to experiment is cool. We can ...</td>\n",
       "      <td>computer-vision</td>\n",
       "    </tr>\n",
       "    <tr>\n",
       "      <th>1</th>\n",
       "      <td>7</td>\n",
       "      <td>2020-02-20 06:47:21</td>\n",
       "      <td>Show, Infer &amp; Tell: Contextual Inference for C...</td>\n",
       "      <td>The beauty of the work lies in the way it arch...</td>\n",
       "      <td>computer-vision</td>\n",
       "    </tr>\n",
       "    <tr>\n",
       "      <th>2</th>\n",
       "      <td>9</td>\n",
       "      <td>2020-02-24 16:24:45</td>\n",
       "      <td>Awesome Graph Classification</td>\n",
       "      <td>A collection of important graph embedding, cla...</td>\n",
       "      <td>other</td>\n",
       "    </tr>\n",
       "    <tr>\n",
       "      <th>3</th>\n",
       "      <td>15</td>\n",
       "      <td>2020-02-28 23:55:26</td>\n",
       "      <td>Awesome Monte Carlo Tree Search</td>\n",
       "      <td>A curated list of Monte Carlo tree search pape...</td>\n",
       "      <td>other</td>\n",
       "    </tr>\n",
       "    <tr>\n",
       "      <th>4</th>\n",
       "      <td>25</td>\n",
       "      <td>2020-03-07 23:04:31</td>\n",
       "      <td>AttentionWalk</td>\n",
       "      <td>A PyTorch Implementation of \"Watch Your Step: ...</td>\n",
       "      <td>other</td>\n",
       "    </tr>\n",
       "  </tbody>\n",
       "</table>\n",
       "</div>"
      ],
      "text/plain": [
       "   id           created_on                                              title   \n",
       "0   6  2020-02-20 06:43:18  Comparison between YOLO and RCNN on real world...  \\\n",
       "1   7  2020-02-20 06:47:21  Show, Infer & Tell: Contextual Inference for C...   \n",
       "2   9  2020-02-24 16:24:45                       Awesome Graph Classification   \n",
       "3  15  2020-02-28 23:55:26                    Awesome Monte Carlo Tree Search   \n",
       "4  25  2020-03-07 23:04:31                                      AttentionWalk   \n",
       "\n",
       "                                         description              tag  \n",
       "0  Bringing theory to experiment is cool. We can ...  computer-vision  \n",
       "1  The beauty of the work lies in the way it arch...  computer-vision  \n",
       "2  A collection of important graph embedding, cla...            other  \n",
       "3  A curated list of Monte Carlo tree search pape...            other  \n",
       "4  A PyTorch Implementation of \"Watch Your Step: ...            other  "
      ]
     },
     "execution_count": 3,
     "metadata": {},
     "output_type": "execute_result"
    }
   ],
   "source": [
    "import pandas as pd\n",
    "\n",
    "# data ingestion\n",
    "DATASET_LOC = \"https://raw.githubusercontent.com/GokuMohandas/Made-With-ML/main/datasets/dataset.csv\"\n",
    "df = pd.read_csv(DATASET_LOC)\n",
    "df.head()"
   ]
  },
  {
   "cell_type": "markdown",
   "id": "ffdf15c0",
   "metadata": {},
   "source": [
    "### **2.1.2 Splitting**\n",
    "Next, we need to split our training dataset into train and val data splits.  \n",
    "* 💠 Use the train split to train the model\n",
    "* 💠After each iteration (epoch) through the training split, we will use the val split to determine the model's performance.\n",
    "* 💠Finally, we will use a separate holdout test dataset to determine the model's performance after training."
   ]
  },
  {
   "cell_type": "code",
   "execution_count": 4,
   "id": "b1fc5a7e",
   "metadata": {},
   "outputs": [
    {
     "data": {
      "text/plain": [
       "tag\n",
       "natural-language-processing    310\n",
       "computer-vision                285\n",
       "other                          106\n",
       "mlops                           63\n",
       "Name: count, dtype: int64"
      ]
     },
     "execution_count": 4,
     "metadata": {},
     "output_type": "execute_result"
    }
   ],
   "source": [
    "from sklearn.model_selection import train_test_split\n",
    "# Value counts\n",
    "df.tag.value_counts()"
   ]
  },
  {
   "cell_type": "markdown",
   "id": "30bbbaa2",
   "metadata": {},
   "source": [
    "For our multi-class task (where each project has exactly one tag), we want to ensure that the data splits have similar class distributions. We can achieve this by specifying how to stratify the split by using the `stratify` keyword argument with sklearn's `train_test_split()` function.  \n",
    "\n",
    "Creating proper data splits:   \n",
    "💠the dataset (and each data split) should be representative of data we will encounter  \n",
    "💠equal distributions of output values across all splits  \n",
    "💠shuffle your data if it's organized in a way that prevents input variance  \n",
    "💠avoid random shuffles if your task can suffer from data leaks (ex. time-series)  "
   ]
  },
  {
   "cell_type": "code",
   "execution_count": 7,
   "id": "c2969dec",
   "metadata": {},
   "outputs": [
    {
     "data": {
      "text/plain": [
       "tag\n",
       "natural-language-processing    248\n",
       "computer-vision                228\n",
       "other                           85\n",
       "mlops                           50\n",
       "Name: count, dtype: int64"
      ]
     },
     "execution_count": 7,
     "metadata": {},
     "output_type": "execute_result"
    }
   ],
   "source": [
    "# split dataset\n",
    "test_size = 0.2\n",
    "train_df, val_df = train_test_split(df, test_size=test_size, stratify=df.tag, random_state=42)\n",
    "\n",
    "# check the split for class distribution\n",
    "train_df.tag.value_counts()"
   ]
  },
  {
   "cell_type": "code",
   "execution_count": 8,
   "id": "41fc4f50",
   "metadata": {},
   "outputs": [
    {
     "data": {
      "text/plain": [
       "tag\n",
       "natural-language-processing    248\n",
       "computer-vision                228\n",
       "other                           84\n",
       "mlops                           52\n",
       "Name: count, dtype: int64"
      ]
     },
     "execution_count": 8,
     "metadata": {},
     "output_type": "execute_result"
    }
   ],
   "source": [
    "# Validation (adjusted) value counts\n",
    "val_df.tag.value_counts() * int((1-test_size) / test_size)"
   ]
  },
  {
   "cell_type": "markdown",
   "id": "c9a4acab",
   "metadata": {},
   "source": [
    "## **2.2 Exploratory Data Analysis (EDA)**  \n",
    "Exploratory data analysis (EDA) to understand the signals and nuances of our dataset.  \n",
    "Here's how to think about EDA:  \n",
    "💠not just to visualize a prescribed set of plots (correlation matrix, etc.).  \n",
    "💠goal is to convince yourself that the data you have is sufficient for the task.  \n",
    "💠use EDA to answer important questions and to make it easier to extract insight  \n",
    "💠not a one time process; as your data grows, you want to revisit EDA to catch distribution shifts, anomalies, etc\n"
   ]
  },
  {
   "cell_type": "markdown",
   "id": "bf948201",
   "metadata": {},
   "source": [
    "Let's answer a few key questions using EDA."
   ]
  },
  {
   "cell_type": "code",
   "execution_count": 9,
   "id": "4aa39cdf",
   "metadata": {},
   "outputs": [],
   "source": [
    "from collections import Counter\n",
    "import matplotlib.pyplot as plt\n",
    "import seaborn as sns; sns.set_theme()\n",
    "import warnings; warnings.filterwarnings(\"ignore\")\n",
    "from wordcloud import WordCloud, STOPWORDS"
   ]
  },
  {
   "cell_type": "markdown",
   "id": "dcebbba8",
   "metadata": {},
   "source": [
    "### **2.2.1 Tag Distribution**  \n",
    "How many data points do we have per tag? We'll use the `Counter` class to get counts for all the different tags"
   ]
  },
  {
   "cell_type": "code",
   "execution_count": 10,
   "id": "7b3fa194",
   "metadata": {},
   "outputs": [
    {
     "data": {
      "text/plain": [
       "[('natural-language-processing', 310),\n",
       " ('computer-vision', 285),\n",
       " ('other', 106),\n",
       " ('mlops', 63)]"
      ]
     },
     "execution_count": 10,
     "metadata": {},
     "output_type": "execute_result"
    }
   ],
   "source": [
    "# Most common tags\n",
    "all_tags = Counter(df.tag)\n",
    "all_tags.most_common()"
   ]
  },
  {
   "cell_type": "markdown",
   "id": "edd7b1ba",
   "metadata": {},
   "source": [
    "We can then separate the tags and from their respective counts and plot them using `Plotly`."
   ]
  },
  {
   "cell_type": "code",
   "execution_count": 11,
   "id": "1b280a21",
   "metadata": {},
   "outputs": [
    {
     "data": {
      "image/png": "[encoded data removed]",
      "text/plain": [
       "<Figure size 1000x300 with 1 Axes>"
      ]
     },
     "metadata": {},
     "output_type": "display_data"
    }
   ],
   "source": [
    "# Plot tag frequencies\n",
    "tags, tag_counts = zip(*all_tags.most_common())\n",
    "plt.figure(figsize=(10, 3))\n",
    "ax = sns.barplot(x=list(tags), y=list(tag_counts))\n",
    "ax.set_xticklabels(tags, rotation=0, fontsize=8)\n",
    "plt.title(\"Tag distribution\", fontsize=14)\n",
    "plt.ylabel(\"# of projects\", fontsize=12)\n",
    "plt.show()"
   ]
  },
  {
   "cell_type": "markdown",
   "id": "5aac68b5",
   "metadata": {},
   "source": [
    "We do have some data imbalance but it's not too bad."
   ]
  },
  {
   "cell_type": "markdown",
   "id": "c8fff55c",
   "metadata": {},
   "source": [
    "### **2.2.2 Wordcloud**  \n",
    "Is there enough signal in the title and description that's unique to each tag? This is important to know because we want to verify our initial hypothesis that the project's title and description are high quality features for predicting the tag. And to visualize this, we're going to use a wordcloud. "
   ]
  },
  {
   "cell_type": "code",
   "execution_count": 12,
   "id": "727eea4a",
   "metadata": {},
   "outputs": [
    {
     "data": {
      "text/plain": [
       "<matplotlib.image.AxesImage at 0x2761adb5570>"
      ]
     },
     "execution_count": 12,
     "metadata": {},
     "output_type": "execute_result"
    },
    {
     "data": {
      "image/png": "[encoded data removed]",
      "text/plain": [
       "<Figure size 1000x300 with 1 Axes>"
      ]
     },
     "metadata": {},
     "output_type": "display_data"
    }
   ],
   "source": [
    "# Most frequent tokens for each tag\n",
    "tag = \"natural-language-processing\"\n",
    "plt.figure(figsize=(10, 3))\n",
    "subset = df[df.tag == tag]\n",
    "text =subset.title.values\n",
    "cloud = WordCloud(\n",
    "    stopwords=STOPWORDS,\n",
    "    background_color=\"black\",\n",
    "    collocations=False,\n",
    "    width=500, height=300).generate(\" \".join(text))\n",
    "plt.axis(\"off\")\t\n",
    "plt.imshow(cloud)"
   ]
  },
  {
   "cell_type": "markdown",
   "id": "5ec293e2",
   "metadata": {},
   "source": [
    "## **2.3 Data Preprocessing**  \n",
    "Data preprocessing can be categorized into two types of processes: preparation and transformation. We'll explore common preprocessing techniques and then we'll preprocess our dataset."
   ]
  },
  {
   "cell_type": "markdown",
   "id": "6fa3aeaa",
   "metadata": {},
   "source": [
    "### **2.3.1 Preparing**"
   ]
  },
  {
   "cell_type": "markdown",
   "id": "6080ae3e",
   "metadata": {},
   "source": [
    "#### Feature Engineering  \n",
    "We can combine existing input features to create new meaningful signal for helping the model learn. However, there's usually no simple way to know if certain feature combinations will help or not without empirically experimenting with the different combinations. Here, we could use a project's title and description separately as features but we'll combine them to create one input feature."
   ]
  },
  {
   "cell_type": "code",
   "execution_count": 13,
   "id": "723c0923",
   "metadata": {},
   "outputs": [],
   "source": [
    "import json\n",
    "import nltk\n",
    "from nltk.corpus import stopwords\n",
    "from nltk.stem import PorterStemmer\n",
    "import re"
   ]
  },
  {
   "cell_type": "code",
   "execution_count": 14,
   "id": "86f65e01",
   "metadata": {},
   "outputs": [],
   "source": [
    "# Input\n",
    "df[\"text\"] = df.title + \" \" + df.description"
   ]
  },
  {
   "cell_type": "markdown",
   "id": "61e9baa5",
   "metadata": {},
   "source": [
    "#### Cleaning  \n",
    "Since we're dealing with text data, we can apply some common text preprocessing operations. Here, we'll be using Python's built-in regular expressions library re and the Natural Language Toolkit nltk."
   ]
  },
  {
   "cell_type": "code",
   "execution_count": 15,
   "id": "8f43f3aa",
   "metadata": {},
   "outputs": [
    {
     "name": "stderr",
     "output_type": "stream",
     "text": [
      "[nltk_data] Downloading package stopwords to\n",
      "[nltk_data]     C:\\Users\\brian\\AppData\\Roaming\\nltk_data...\n",
      "[nltk_data]   Package stopwords is already up-to-date!\n"
     ]
    }
   ],
   "source": [
    "nltk.download(\"stopwords\")\n",
    "STOPWORDS = stopwords.words(\"english\")"
   ]
  },
  {
   "cell_type": "code",
   "execution_count": 16,
   "id": "4d00e81a",
   "metadata": {},
   "outputs": [],
   "source": [
    "def clean_text(text, stopwords=STOPWORDS):\n",
    "    \"\"\" Clean Raw Text \"\"\"\n",
    "    # lowercase\n",
    "    text = text.lower()\n",
    "    \n",
    "    # remove stopwords\n",
    "    pattern = re.compile(r'\\b(' + r\"|\".join(stopwords) + r\")\\b\\s*\")\n",
    "    text = pattern.sub(\"\", text)\n",
    "    \n",
    "    # Spacing and Filters\n",
    "    text = re.sub(r\"([!\\\"'#$%&()*\\+,-./:;<=>?@\\\\\\[\\]^_`{|}~])\", r\" \\1 \", text)  # add spacing\n",
    "    text = re.sub(\"[^A-Za-z0-9]+\", \" \", text)  # remove non alphanumeric chars\n",
    "    text = re.sub(\" +\", \" \", text)  # remove multiple spaces\n",
    "    text = text.strip()  # strip white space at the ends\n",
    "    text = re.sub(r\"http\\S+\", \"\", text)  #  remove links\n",
    "    \n",
    "    return text\n",
    "\n"
   ]
  },
  {
   "cell_type": "code",
   "execution_count": 17,
   "id": "6a75364d",
   "metadata": {},
   "outputs": [
    {
     "name": "stdout",
     "output_type": "stream",
     "text": [
      "Comparison between YOLO and RCNN on real world videos Bringing theory to experiment is cool. We can easily train models in colab and find the results in minutes.\n",
      "comparison yolo rcnn real world videos bringing theory experiment cool easily train models colab find results minutes\n"
     ]
    }
   ],
   "source": [
    "# apply to dataframe\n",
    "original_df = df.copy()\n",
    "df.text = df.text.apply(clean_text)\n",
    "print(f\"{original_df.text.values[0]}\\n{df.text.values[0]}\")"
   ]
  },
  {
   "cell_type": "code",
   "execution_count": 18,
   "id": "e002e577",
   "metadata": {},
   "outputs": [
    {
     "data": {
      "text/html": [
       "<div>\n",
       "<style scoped>\n",
       "    .dataframe tbody tr th:only-of-type {\n",
       "        vertical-align: middle;\n",
       "    }\n",
       "\n",
       "    .dataframe tbody tr th {\n",
       "        vertical-align: top;\n",
       "    }\n",
       "\n",
       "    .dataframe thead th {\n",
       "        text-align: right;\n",
       "    }\n",
       "</style>\n",
       "<table border=\"1\" class=\"dataframe\">\n",
       "  <thead>\n",
       "    <tr style=\"text-align: right;\">\n",
       "      <th></th>\n",
       "      <th>text</th>\n",
       "      <th>tag</th>\n",
       "    </tr>\n",
       "  </thead>\n",
       "  <tbody>\n",
       "    <tr>\n",
       "      <th>0</th>\n",
       "      <td>comparison yolo rcnn real world videos bringin...</td>\n",
       "      <td>computer-vision</td>\n",
       "    </tr>\n",
       "    <tr>\n",
       "      <th>1</th>\n",
       "      <td>show infer tell contextual inference creative ...</td>\n",
       "      <td>computer-vision</td>\n",
       "    </tr>\n",
       "    <tr>\n",
       "      <th>2</th>\n",
       "      <td>awesome graph classification collection import...</td>\n",
       "      <td>other</td>\n",
       "    </tr>\n",
       "    <tr>\n",
       "      <th>3</th>\n",
       "      <td>awesome monte carlo tree search curated list m...</td>\n",
       "      <td>other</td>\n",
       "    </tr>\n",
       "    <tr>\n",
       "      <th>4</th>\n",
       "      <td>attentionwalk pytorch implementation watch ste...</td>\n",
       "      <td>other</td>\n",
       "    </tr>\n",
       "  </tbody>\n",
       "</table>\n",
       "</div>"
      ],
      "text/plain": [
       "                                                text              tag\n",
       "0  comparison yolo rcnn real world videos bringin...  computer-vision\n",
       "1  show infer tell contextual inference creative ...  computer-vision\n",
       "2  awesome graph classification collection import...            other\n",
       "3  awesome monte carlo tree search curated list m...            other\n",
       "4  attentionwalk pytorch implementation watch ste...            other"
      ]
     },
     "execution_count": 18,
     "metadata": {},
     "output_type": "execute_result"
    }
   ],
   "source": [
    "#DataFrame cleanup\n",
    "df = df.drop(columns=[\"id\", \"created_on\", \"title\", \"description\"], errors=\"ignore\")  # drop cols\n",
    "df = df.dropna(subset=[\"tag\"])  # drop nulls\n",
    "df = df[[\"text\", \"tag\"]]  # rearrange cols\n",
    "df.head()"
   ]
  },
  {
   "cell_type": "markdown",
   "id": "c33ec1c3",
   "metadata": {},
   "source": [
    "#### **Encoding**\n",
    "We need to encode our data into numerical values so that our models can process them.  \n",
    "We'll start by encoding our text labels into unique indices."
   ]
  },
  {
   "cell_type": "code",
   "execution_count": 19,
   "id": "8774a9a4",
   "metadata": {},
   "outputs": [
    {
     "data": {
      "text/plain": [
       "{'natural-language-processing': 0,\n",
       " 'computer-vision': 1,\n",
       " 'other': 2,\n",
       " 'mlops': 3}"
      ]
     },
     "execution_count": 19,
     "metadata": {},
     "output_type": "execute_result"
    }
   ],
   "source": [
    "# label to index\n",
    "tags = train_df.tag.unique().tolist()\n",
    "num_classes = len(tags)\n",
    "class_to_index = {tag: i for i, tag in enumerate(tags)}\n",
    "class_to_index"
   ]
  },
  {
   "cell_type": "code",
   "execution_count": 20,
   "id": "73e2a0af",
   "metadata": {},
   "outputs": [
    {
     "data": {
      "text/html": [
       "<div>\n",
       "<style scoped>\n",
       "    .dataframe tbody tr th:only-of-type {\n",
       "        vertical-align: middle;\n",
       "    }\n",
       "\n",
       "    .dataframe tbody tr th {\n",
       "        vertical-align: top;\n",
       "    }\n",
       "\n",
       "    .dataframe thead th {\n",
       "        text-align: right;\n",
       "    }\n",
       "</style>\n",
       "<table border=\"1\" class=\"dataframe\">\n",
       "  <thead>\n",
       "    <tr style=\"text-align: right;\">\n",
       "      <th></th>\n",
       "      <th>text</th>\n",
       "      <th>tag</th>\n",
       "    </tr>\n",
       "  </thead>\n",
       "  <tbody>\n",
       "    <tr>\n",
       "      <th>0</th>\n",
       "      <td>comparison yolo rcnn real world videos bringin...</td>\n",
       "      <td>1</td>\n",
       "    </tr>\n",
       "    <tr>\n",
       "      <th>1</th>\n",
       "      <td>show infer tell contextual inference creative ...</td>\n",
       "      <td>1</td>\n",
       "    </tr>\n",
       "    <tr>\n",
       "      <th>2</th>\n",
       "      <td>awesome graph classification collection import...</td>\n",
       "      <td>2</td>\n",
       "    </tr>\n",
       "    <tr>\n",
       "      <th>3</th>\n",
       "      <td>awesome monte carlo tree search curated list m...</td>\n",
       "      <td>2</td>\n",
       "    </tr>\n",
       "    <tr>\n",
       "      <th>4</th>\n",
       "      <td>attentionwalk pytorch implementation watch ste...</td>\n",
       "      <td>2</td>\n",
       "    </tr>\n",
       "  </tbody>\n",
       "</table>\n",
       "</div>"
      ],
      "text/plain": [
       "                                                text  tag\n",
       "0  comparison yolo rcnn real world videos bringin...    1\n",
       "1  show infer tell contextual inference creative ...    1\n",
       "2  awesome graph classification collection import...    2\n",
       "3  awesome monte carlo tree search curated list m...    2\n",
       "4  attentionwalk pytorch implementation watch ste...    2"
      ]
     },
     "execution_count": 20,
     "metadata": {},
     "output_type": "execute_result"
    }
   ],
   "source": [
    "## use the map function to map our class_to_index to the tag column\n",
    "df['tag'] = df['tag'].map(class_to_index)\n",
    "df.head()"
   ]
  },
  {
   "cell_type": "markdown",
   "id": "ae02fa03",
   "metadata": {},
   "source": [
    "We'll also want to be able to decode our predictions back into text labels. We can do this by creating an index_to_class dictionary and using that to convert encoded labels back into text labels."
   ]
  },
  {
   "cell_type": "code",
   "execution_count": 21,
   "id": "8273500a",
   "metadata": {},
   "outputs": [],
   "source": [
    "def decode(indices, index_to_class):\n",
    "    return [index_to_class[index] for index in indices]"
   ]
  },
  {
   "cell_type": "code",
   "execution_count": 22,
   "id": "ea6b84b5",
   "metadata": {},
   "outputs": [
    {
     "data": {
      "text/plain": [
       "['computer-vision', 'computer-vision', 'other', 'other', 'other']"
      ]
     },
     "execution_count": 22,
     "metadata": {},
     "output_type": "execute_result"
    }
   ],
   "source": [
    "index_to_class = {v:k for k, v in class_to_index.items()}\n",
    "decode(df.head()[\"tag\"].values, index_to_class=index_to_class)"
   ]
  },
  {
   "cell_type": "markdown",
   "id": "ca196d47",
   "metadata": {},
   "source": [
    "#### **Tokenizer**  \n",
    "Next we'll encode our text as well. Instead of using a random dictionary, we'll use a tokenizer that was used for a pretrained LLM (scibert) to tokenize our text. We'll be fine-tuning this exact model later when we train our model.  \n",
    "\n",
    "The tokenizer will convert our input text into a list of token ids and a list of attention masks. The token ids are the indices of the tokens in the vocabulary. The attention mask is a binary mask indicating the position of the token indices so that the model can attend to them (and ignore the pad tokens)."
   ]
  },
  {
   "cell_type": "code",
   "execution_count": 23,
   "id": "ca575153",
   "metadata": {},
   "outputs": [],
   "source": [
    "import numpy as np\n",
    "from transformers import BertTokenizer"
   ]
  },
  {
   "cell_type": "code",
   "execution_count": 25,
   "id": "9dacdadf",
   "metadata": {},
   "outputs": [
    {
     "name": "stdout",
     "output_type": "stream",
     "text": [
      "input_ids: [[  102 29155   220 15618   140   168  8328  4588 30121  3574   205   103]]\n",
      "\n",
      "attention_mask: [[1 1 1 1 1 1 1 1 1 1 1 1]]\n",
      "\n",
      "[CLS] transformers are amazing for doing nlp tasks. [SEP]\n"
     ]
    }
   ],
   "source": [
    "# BertTokenizer\n",
    "tokenizer = BertTokenizer.from_pretrained(\"allenai/scibert_scivocab_uncased\", return_dict=False)\n",
    "text = \"Transformers are amazing for doing NLP tasks.\"\n",
    "encoded_inputs = tokenizer([text], return_tensors=\"np\", padding='longest')\n",
    "print(f\"input_ids: {encoded_inputs['input_ids']}\\n\")\n",
    "print(f\"attention_mask: {encoded_inputs['attention_mask']}\\n\")\n",
    "print(tokenizer.decode(encoded_inputs['input_ids'][0]))"
   ]
  },
  {
   "cell_type": "code",
   "execution_count": 26,
   "id": "8e069fb2",
   "metadata": {},
   "outputs": [],
   "source": [
    "def tokenize(batch):\n",
    "    tokenizer = BertTokenizer.from_pretrained(\"allenai/scibert_scivocab_uncased\", return_dict=False)\n",
    "    encoded_inputs = tokenizer(batch['text'].tolist(),return_tensors=\"np\", padding='longest')\n",
    "    return dict(ids=encoded_inputs['input_ids'],mask=encoded_inputs['attention_mask'],targets = np.array(batch['tag']))"
   ]
  },
  {
   "cell_type": "code",
   "execution_count": 27,
   "id": "902e3813",
   "metadata": {},
   "outputs": [
    {
     "data": {
      "text/plain": [
       "{'ids': array([[  102,  2029,  1778,   609,  6446,  4857,  1332,  2399, 13572,\n",
       "         19125,  1983,  1954,  6240,  3717,  7434,  1262,   537,   201,\n",
       "          1040,   545,  4714,   103]]),\n",
       " 'mask': array([[1, 1, 1, 1, 1, 1, 1, 1, 1, 1, 1, 1, 1, 1, 1, 1, 1, 1, 1, 1, 1, 1]]),\n",
       " 'targets': array([1], dtype=int64)}"
      ]
     },
     "execution_count": 27,
     "metadata": {},
     "output_type": "execute_result"
    }
   ],
   "source": [
    "# Tokenization\n",
    "tokenize(df.head(1))"
   ]
  },
  {
   "cell_type": "markdown",
   "id": "ad6e9685",
   "metadata": {},
   "source": [
    "#### Putting it all together!!!"
   ]
  },
  {
   "cell_type": "code",
   "execution_count": 28,
   "id": "e1cafc6b",
   "metadata": {},
   "outputs": [],
   "source": [
    "def preprocess(df, class_to_index):\n",
    "    \"\"\"Preprocess the data.\"\"\"\n",
    "    df[\"text\"] = df.title + \" \" + df.description  # feature engineering\n",
    "    df[\"text\"] = df.text.apply(clean_text)  # clean text\n",
    "    df = df.drop(columns=[\"id\", \"created_on\", \"title\", \"description\"], errors=\"ignore\")  # clean dataframe\n",
    "    df = df[[\"text\", \"tag\"]]  # rearrange columns\n",
    "    df[\"tag\"] = df[\"tag\"].map(class_to_index)  # label encoding\n",
    "    outputs = tokenize(df)\n",
    "    return outputs"
   ]
  },
  {
   "cell_type": "code",
   "execution_count": 29,
   "id": "5aa8edd9",
   "metadata": {},
   "outputs": [
    {
     "data": {
      "text/plain": [
       "{'ids': array([[  102,  6828,  1630, ...,     0,     0,     0],\n",
       "        [  102,  2570,  7885, ...,     0,     0,     0],\n",
       "        [  102,  8854,  2998, ...,     0,     0,     0],\n",
       "        ...,\n",
       "        [  102,  3526,   318, ...,     0,     0,     0],\n",
       "        [  102,  1387, 30110, ...,     0,     0,     0],\n",
       "        [  102, 10850,   142, ...,     0,     0,     0]]),\n",
       " 'mask': array([[1, 1, 1, ..., 0, 0, 0],\n",
       "        [1, 1, 1, ..., 0, 0, 0],\n",
       "        [1, 1, 1, ..., 0, 0, 0],\n",
       "        ...,\n",
       "        [1, 1, 1, ..., 0, 0, 0],\n",
       "        [1, 1, 1, ..., 0, 0, 0],\n",
       "        [1, 1, 1, ..., 0, 0, 0]]),\n",
       " 'targets': array([0, 0, 0, 0, 0, 1, 0, 1, 2, 1, 0, 0, 1, 2, 2, 1, 3, 1, 2, 0, 1, 1,\n",
       "        0, 3, 2, 3, 0, 0, 1, 0, 2, 0, 0, 0, 3, 1, 0, 1, 0, 1, 0, 1, 3, 1,\n",
       "        2, 1, 0, 2, 3, 0, 1, 0, 1, 0, 1, 1, 3, 1, 0, 1, 0, 0, 0, 0, 1, 1,\n",
       "        0, 0, 1, 1, 1, 0, 0, 1, 1, 3, 1, 1, 1, 2, 0, 0, 3, 1, 2, 0, 0, 0,\n",
       "        1, 1, 2, 0, 0, 1, 0, 1, 1, 0, 0, 0, 2, 2, 2, 1, 0, 0, 1, 2, 1, 3,\n",
       "        0, 1, 0, 1, 0, 0, 3, 0, 2, 1, 0, 1, 1, 0, 2, 3, 0, 1, 2, 0, 1, 2,\n",
       "        1, 0, 0, 1, 0, 0, 2, 1, 1, 1, 1, 0, 0, 0, 1, 1, 1, 1, 2, 0, 2, 1,\n",
       "        2, 1, 1, 3, 3, 1, 0, 3, 1, 0, 0, 3, 1, 1, 1, 0, 1, 1, 1, 2, 1, 2,\n",
       "        1, 1, 1, 1, 3, 0, 3, 1, 1, 3, 0, 2, 1, 2, 0, 0, 2, 2, 0, 0, 1, 0,\n",
       "        2, 0, 1, 1, 2, 1, 1, 0, 1, 3, 1, 1, 0, 1, 2, 0, 3, 1, 0, 0, 1, 0,\n",
       "        0, 1, 3, 0, 0, 0, 0, 3, 1, 2, 2, 2, 1, 0, 1, 1, 0, 2, 3, 3, 0, 1,\n",
       "        0, 1, 0, 0, 1, 2, 0, 3, 0, 3, 1, 1, 0, 1, 1, 0, 0, 0, 0, 3, 0, 1,\n",
       "        1, 1, 0, 1, 1, 0, 1, 1, 0, 2, 2, 2, 1, 2, 1, 2, 1, 0, 1, 0, 0, 1,\n",
       "        0, 1, 1, 0, 1, 2, 0, 0, 1, 1, 0, 0, 0, 0, 0, 1, 0, 0, 0, 0, 0, 0,\n",
       "        1, 0, 0, 2, 2, 2, 2, 1, 0, 0, 1, 0, 0, 2, 1, 3, 2, 1, 0, 0, 0, 0,\n",
       "        1, 0, 2, 0, 0, 2, 0, 0, 0, 0, 0, 0, 0, 0, 1, 1, 1, 1, 1, 1, 0, 1,\n",
       "        1, 0, 0, 0, 2, 0, 3, 1, 1, 0, 2, 0, 2, 1, 1, 0, 0, 0, 3, 0, 0, 3,\n",
       "        0, 0, 0, 1, 0, 0, 0, 1, 1, 0, 0, 0, 0, 0, 0, 2, 0, 2, 0, 0, 3, 0,\n",
       "        0, 0, 0, 0, 1, 1, 1, 1, 2, 1, 2, 0, 3, 1, 1, 0, 1, 3, 0, 0, 1, 0,\n",
       "        0, 1, 0, 1, 1, 1, 2, 1, 1, 1, 1, 0, 3, 0, 2, 0, 0, 2, 0, 1, 2, 2,\n",
       "        0, 1, 0, 1, 0, 1, 2, 1, 0, 1, 1, 2, 0, 1, 1, 0, 0, 1, 0, 1, 0, 1,\n",
       "        1, 3, 0, 3, 1, 0, 1, 2, 0, 0, 0, 0, 2, 1, 1, 1, 1, 3, 1, 0, 0, 0,\n",
       "        3, 0, 2, 0, 0, 0, 1, 0, 0, 1, 1, 1, 0, 1, 1, 3, 0, 0, 3, 0, 1, 0,\n",
       "        0, 1, 2, 1, 1, 2, 1, 0, 1, 1, 1, 2, 2, 1, 3, 3, 1, 2, 0, 1, 1, 0,\n",
       "        3, 2, 0, 1, 1, 0, 2, 0, 0, 1, 2, 1, 0, 0, 2, 0, 3, 1, 3, 1, 0, 1,\n",
       "        1, 0, 1, 3, 1, 1, 1, 2, 1, 1, 2, 1, 0, 0, 3, 0, 0, 2, 0, 1, 0, 1,\n",
       "        1, 1, 2, 1, 0, 0, 0, 0, 1, 1, 1, 1, 1, 1, 0, 1, 2, 1, 0, 0, 0, 1,\n",
       "        1, 1, 1, 2, 1, 2, 2, 0, 1, 3, 0, 0, 0, 0, 1, 0, 0], dtype=int64)}"
      ]
     },
     "execution_count": 29,
     "metadata": {},
     "output_type": "execute_result"
    }
   ],
   "source": [
    "# Apply\n",
    "preprocess(df=train_df, class_to_index=class_to_index)"
   ]
  },
  {
   "cell_type": "markdown",
   "id": "77f234b5",
   "metadata": {},
   "source": [
    "## **2.4 Distributed Data Processing**  \n",
    "So far we've performed our data processing operations on a single machine. Our dataset was able to fit into a single Pandas DataFrame and we were able to perform our operations in a single Python process. But what if our dataset was too large to fit into a single machine? We would need to distribute our data processing operations across multiple machines. And with the increasing trend in ML for larger unstructured datasets and larger models (LLMs), we can quickly outgrow our single machine constraints and will need to go distributed.  \n",
    "\n",
    "we'll be using Ray, a distributed computing framework that makes it easy to scale your Python applications"
   ]
  },
  {
   "cell_type": "markdown",
   "id": "6ed0449f",
   "metadata": {},
   "source": [
    "#### **Setup**\n",
    "The only setup we have to do is set Ray to preserve order when acting on our data. This is important for ensuring reproducible and deterministic results."
   ]
  },
  {
   "cell_type": "code",
   "execution_count": 30,
   "id": "00c1ebb1",
   "metadata": {},
   "outputs": [],
   "source": [
    "ray.data.DatasetContext.get_current().execution_options.preserve_order = True"
   ]
  },
  {
   "cell_type": "markdown",
   "id": "9055499a",
   "metadata": {},
   "source": [
    "#### **Ingestion**\n",
    "We'll start by ingesting our dataset. "
   ]
  },
  {
   "cell_type": "code",
   "execution_count": 32,
   "id": "431323a7",
   "metadata": {},
   "outputs": [
    {
     "ename": "RayTaskError(ModuleNotFoundError)",
     "evalue": "\u001b[36mray::_get_reader()\u001b[39m (pid=7564, ip=127.0.0.1)\n  File \"python\\ray\\_raylet.pyx\", line 1616, in ray._raylet.execute_task\n  File \"c:\\Users\\brian\\miniconda3\\envs\\madewithml\\lib\\site-packages\\ray\\data\\read_api.py\", line 2348, in _get_reader\n    reader = ds.create_reader(**kwargs)\n  File \"c:\\Users\\brian\\miniconda3\\envs\\madewithml\\lib\\site-packages\\ray\\data\\datasource\\file_based_datasource.py\", line 256, in create_reader\n    return _FileBasedDatasourceReader(self, **kwargs)\n  File \"c:\\Users\\brian\\miniconda3\\envs\\madewithml\\lib\\site-packages\\ray\\data\\datasource\\file_based_datasource.py\", line 476, in __init__\n    _check_pyarrow_version()\n  File \"c:\\Users\\brian\\miniconda3\\envs\\madewithml\\lib\\site-packages\\ray\\data\\_internal\\util.py\", line 78, in _check_pyarrow_version\n    from pkg_resources._vendor.packaging.version import parse as parse_version\nModuleNotFoundError: No module named 'pkg_resources._vendor'",
     "output_type": "error",
     "traceback": [
      "\u001b[1;31m---------------------------------------------------------------------------\u001b[0m",
      "\u001b[1;31mRayTaskError(ModuleNotFoundError)\u001b[0m         Traceback (most recent call last)",
      "Cell \u001b[1;32mIn[32], line 3\u001b[0m\n\u001b[0;32m      1\u001b[0m \u001b[38;5;66;03m## Data ingestion\u001b[39;00m\n\u001b[1;32m----> 3\u001b[0m ds \u001b[38;5;241m=\u001b[39m \u001b[43mray\u001b[49m\u001b[38;5;241;43m.\u001b[39;49m\u001b[43mdata\u001b[49m\u001b[38;5;241;43m.\u001b[39;49m\u001b[43mread_csv\u001b[49m\u001b[43m(\u001b[49m\u001b[43mDATASET_LOC\u001b[49m\u001b[43m)\u001b[49m\n\u001b[0;32m      4\u001b[0m ds \u001b[38;5;241m=\u001b[39m ds\u001b[38;5;241m.\u001b[39mrandom_shuffle(seed\u001b[38;5;241m=\u001b[39m\u001b[38;5;241m1234\u001b[39m)\n\u001b[0;32m      5\u001b[0m ds\u001b[38;5;241m.\u001b[39mtake(\u001b[38;5;241m1\u001b[39m)\n",
      "File \u001b[1;32mc:\\Users\\brian\\miniconda3\\envs\\madewithml\\lib\\site-packages\\ray\\data\\read_api.py:1208\u001b[0m, in \u001b[0;36mread_csv\u001b[1;34m(paths, filesystem, parallelism, ray_remote_args, arrow_open_stream_args, meta_provider, partition_filter, partitioning, ignore_missing_paths, **arrow_csv_args)\u001b[0m\n\u001b[0;32m   1206\u001b[0m \u001b[38;5;28;01mif\u001b[39;00m meta_provider \u001b[38;5;129;01mis\u001b[39;00m \u001b[38;5;28;01mNone\u001b[39;00m:\n\u001b[0;32m   1207\u001b[0m     meta_provider \u001b[38;5;241m=\u001b[39m get_generic_metadata_provider(CSVDatasource\u001b[38;5;241m.\u001b[39m_FILE_EXTENSION)\n\u001b[1;32m-> 1208\u001b[0m \u001b[38;5;28;01mreturn\u001b[39;00m read_datasource(\n\u001b[0;32m   1209\u001b[0m     CSVDatasource(),\n\u001b[0;32m   1210\u001b[0m     parallelism\u001b[38;5;241m=\u001b[39mparallelism,\n\u001b[0;32m   1211\u001b[0m     paths\u001b[38;5;241m=\u001b[39mpaths,\n\u001b[0;32m   1212\u001b[0m     filesystem\u001b[38;5;241m=\u001b[39mfilesystem,\n\u001b[0;32m   1213\u001b[0m     ray_remote_args\u001b[38;5;241m=\u001b[39mray_remote_args,\n\u001b[0;32m   1214\u001b[0m     open_stream_args\u001b[38;5;241m=\u001b[39marrow_open_stream_args,\n\u001b[0;32m   1215\u001b[0m     meta_provider\u001b[38;5;241m=\u001b[39mmeta_provider,\n\u001b[0;32m   1216\u001b[0m     partition_filter\u001b[38;5;241m=\u001b[39mpartition_filter,\n\u001b[0;32m   1217\u001b[0m     partitioning\u001b[38;5;241m=\u001b[39mpartitioning,\n\u001b[0;32m   1218\u001b[0m     ignore_missing_paths\u001b[38;5;241m=\u001b[39mignore_missing_paths,\n\u001b[0;32m   1219\u001b[0m     \u001b[38;5;241m*\u001b[39m\u001b[38;5;241m*\u001b[39marrow_csv_args,\n\u001b[0;32m   1220\u001b[0m )\n",
      "File \u001b[1;32mc:\\Users\\brian\\miniconda3\\envs\\madewithml\\lib\\site-packages\\ray\\_private\\auto_init_hook.py:24\u001b[0m, in \u001b[0;36mwrap_auto_init.<locals>.auto_init_wrapper\u001b[1;34m(*args, **kwargs)\u001b[0m\n\u001b[0;32m     21\u001b[0m \u001b[38;5;129m@wraps\u001b[39m(fn)\n\u001b[0;32m     22\u001b[0m \u001b[38;5;28;01mdef\u001b[39;00m\u001b[38;5;250m \u001b[39m\u001b[38;5;21mauto_init_wrapper\u001b[39m(\u001b[38;5;241m*\u001b[39margs, \u001b[38;5;241m*\u001b[39m\u001b[38;5;241m*\u001b[39mkwargs):\n\u001b[0;32m     23\u001b[0m     auto_init_ray()\n\u001b[1;32m---> 24\u001b[0m     \u001b[38;5;28;01mreturn\u001b[39;00m fn(\u001b[38;5;241m*\u001b[39margs, \u001b[38;5;241m*\u001b[39m\u001b[38;5;241m*\u001b[39mkwargs)\n",
      "File \u001b[1;32mc:\\Users\\brian\\miniconda3\\envs\\madewithml\\lib\\site-packages\\ray\\data\\read_api.py:371\u001b[0m, in \u001b[0;36mread_datasource\u001b[1;34m(datasource, parallelism, ray_remote_args, **read_args)\u001b[0m\n\u001b[0;32m    363\u001b[0m     scheduling_strategy \u001b[38;5;241m=\u001b[39m NodeAffinitySchedulingStrategy(\n\u001b[0;32m    364\u001b[0m         ray\u001b[38;5;241m.\u001b[39mget_runtime_context()\u001b[38;5;241m.\u001b[39mget_node_id(),\n\u001b[0;32m    365\u001b[0m         soft\u001b[38;5;241m=\u001b[39m\u001b[38;5;28;01mFalse\u001b[39;00m,\n\u001b[0;32m    366\u001b[0m     )\n\u001b[0;32m    367\u001b[0m     get_reader \u001b[38;5;241m=\u001b[39m cached_remote_fn(\n\u001b[0;32m    368\u001b[0m         _get_reader, retry_exceptions\u001b[38;5;241m=\u001b[39m\u001b[38;5;28;01mFalse\u001b[39;00m, num_cpus\u001b[38;5;241m=\u001b[39m\u001b[38;5;241m0\u001b[39m\n\u001b[0;32m    369\u001b[0m     )\u001b[38;5;241m.\u001b[39moptions(scheduling_strategy\u001b[38;5;241m=\u001b[39mscheduling_strategy)\n\u001b[1;32m--> 371\u001b[0m     (requested_parallelism, min_safe_parallelism, inmemory_size, reader,) \u001b[38;5;241m=\u001b[39m \u001b[43mray\u001b[49m\u001b[38;5;241;43m.\u001b[39;49m\u001b[43mget\u001b[49m\u001b[43m(\u001b[49m\n\u001b[0;32m    372\u001b[0m \u001b[43m        \u001b[49m\u001b[43mget_reader\u001b[49m\u001b[38;5;241;43m.\u001b[39;49m\u001b[43mremote\u001b[49m\u001b[43m(\u001b[49m\n\u001b[0;32m    373\u001b[0m \u001b[43m            \u001b[49m\u001b[43mdatasource\u001b[49m\u001b[43m,\u001b[49m\n\u001b[0;32m    374\u001b[0m \u001b[43m            \u001b[49m\u001b[43mctx\u001b[49m\u001b[43m,\u001b[49m\n\u001b[0;32m    375\u001b[0m \u001b[43m            \u001b[49m\u001b[43mcur_pg\u001b[49m\u001b[43m,\u001b[49m\n\u001b[0;32m    376\u001b[0m \u001b[43m            \u001b[49m\u001b[43mparallelism\u001b[49m\u001b[43m,\u001b[49m\n\u001b[0;32m    377\u001b[0m \u001b[43m            \u001b[49m\u001b[43mlocal_uri\u001b[49m\u001b[43m,\u001b[49m\n\u001b[0;32m    378\u001b[0m \u001b[43m            \u001b[49m\u001b[43m_wrap_arrow_serialization_workaround\u001b[49m\u001b[43m(\u001b[49m\u001b[43mread_args\u001b[49m\u001b[43m)\u001b[49m\u001b[43m,\u001b[49m\n\u001b[0;32m    379\u001b[0m \u001b[43m        \u001b[49m\u001b[43m)\u001b[49m\n\u001b[0;32m    380\u001b[0m \u001b[43m    \u001b[49m\u001b[43m)\u001b[49m\n\u001b[0;32m    382\u001b[0m \u001b[38;5;66;03m# TODO(hchen/chengsu): Remove the duplicated get_read_tasks call here after\u001b[39;00m\n\u001b[0;32m    383\u001b[0m \u001b[38;5;66;03m# removing LazyBlockList code path.\u001b[39;00m\n\u001b[0;32m    384\u001b[0m read_tasks \u001b[38;5;241m=\u001b[39m reader\u001b[38;5;241m.\u001b[39mget_read_tasks(requested_parallelism)\n",
      "File \u001b[1;32mc:\\Users\\brian\\miniconda3\\envs\\madewithml\\lib\\site-packages\\ray\\_private\\auto_init_hook.py:24\u001b[0m, in \u001b[0;36mwrap_auto_init.<locals>.auto_init_wrapper\u001b[1;34m(*args, **kwargs)\u001b[0m\n\u001b[0;32m     21\u001b[0m \u001b[38;5;129m@wraps\u001b[39m(fn)\n\u001b[0;32m     22\u001b[0m \u001b[38;5;28;01mdef\u001b[39;00m\u001b[38;5;250m \u001b[39m\u001b[38;5;21mauto_init_wrapper\u001b[39m(\u001b[38;5;241m*\u001b[39margs, \u001b[38;5;241m*\u001b[39m\u001b[38;5;241m*\u001b[39mkwargs):\n\u001b[0;32m     23\u001b[0m     auto_init_ray()\n\u001b[1;32m---> 24\u001b[0m     \u001b[38;5;28;01mreturn\u001b[39;00m fn(\u001b[38;5;241m*\u001b[39margs, \u001b[38;5;241m*\u001b[39m\u001b[38;5;241m*\u001b[39mkwargs)\n",
      "File \u001b[1;32mc:\\Users\\brian\\miniconda3\\envs\\madewithml\\lib\\site-packages\\ray\\_private\\client_mode_hook.py:103\u001b[0m, in \u001b[0;36mclient_mode_hook.<locals>.wrapper\u001b[1;34m(*args, **kwargs)\u001b[0m\n\u001b[0;32m    101\u001b[0m     \u001b[38;5;28;01mif\u001b[39;00m func\u001b[38;5;241m.\u001b[39m\u001b[38;5;18m__name__\u001b[39m \u001b[38;5;241m!=\u001b[39m \u001b[38;5;124m\"\u001b[39m\u001b[38;5;124minit\u001b[39m\u001b[38;5;124m\"\u001b[39m \u001b[38;5;129;01mor\u001b[39;00m is_client_mode_enabled_by_default:\n\u001b[0;32m    102\u001b[0m         \u001b[38;5;28;01mreturn\u001b[39;00m \u001b[38;5;28mgetattr\u001b[39m(ray, func\u001b[38;5;241m.\u001b[39m\u001b[38;5;18m__name__\u001b[39m)(\u001b[38;5;241m*\u001b[39margs, \u001b[38;5;241m*\u001b[39m\u001b[38;5;241m*\u001b[39mkwargs)\n\u001b[1;32m--> 103\u001b[0m \u001b[38;5;28;01mreturn\u001b[39;00m func(\u001b[38;5;241m*\u001b[39margs, \u001b[38;5;241m*\u001b[39m\u001b[38;5;241m*\u001b[39mkwargs)\n",
      "File \u001b[1;32mc:\\Users\\brian\\miniconda3\\envs\\madewithml\\lib\\site-packages\\ray\\_private\\worker.py:2547\u001b[0m, in \u001b[0;36mget\u001b[1;34m(object_refs, timeout)\u001b[0m\n\u001b[0;32m   2545\u001b[0m     worker\u001b[38;5;241m.\u001b[39mcore_worker\u001b[38;5;241m.\u001b[39mdump_object_store_memory_usage()\n\u001b[0;32m   2546\u001b[0m \u001b[38;5;28;01mif\u001b[39;00m \u001b[38;5;28misinstance\u001b[39m(value, RayTaskError):\n\u001b[1;32m-> 2547\u001b[0m     \u001b[38;5;28;01mraise\u001b[39;00m value\u001b[38;5;241m.\u001b[39mas_instanceof_cause()\n\u001b[0;32m   2548\u001b[0m \u001b[38;5;28;01melse\u001b[39;00m:\n\u001b[0;32m   2549\u001b[0m     \u001b[38;5;28;01mraise\u001b[39;00m value\n",
      "\u001b[1;31mRayTaskError(ModuleNotFoundError)\u001b[0m: \u001b[36mray::_get_reader()\u001b[39m (pid=7564, ip=127.0.0.1)\n  File \"python\\ray\\_raylet.pyx\", line 1616, in ray._raylet.execute_task\n  File \"c:\\Users\\brian\\miniconda3\\envs\\madewithml\\lib\\site-packages\\ray\\data\\read_api.py\", line 2348, in _get_reader\n    reader = ds.create_reader(**kwargs)\n  File \"c:\\Users\\brian\\miniconda3\\envs\\madewithml\\lib\\site-packages\\ray\\data\\datasource\\file_based_datasource.py\", line 256, in create_reader\n    return _FileBasedDatasourceReader(self, **kwargs)\n  File \"c:\\Users\\brian\\miniconda3\\envs\\madewithml\\lib\\site-packages\\ray\\data\\datasource\\file_based_datasource.py\", line 476, in __init__\n    _check_pyarrow_version()\n  File \"c:\\Users\\brian\\miniconda3\\envs\\madewithml\\lib\\site-packages\\ray\\data\\_internal\\util.py\", line 78, in _check_pyarrow_version\n    from pkg_resources._vendor.packaging.version import parse as parse_version\nModuleNotFoundError: No module named 'pkg_resources._vendor'"
     ]
    }
   ],
   "source": [
    "## Data ingestion\n",
    "\n",
    "ds = ray.data.read_csv(DATASET_LOC)\n",
    "ds = ds.random_shuffle(seed=1234)\n",
    "ds.take(1)"
   ]
  },
  {
   "cell_type": "code",
   "execution_count": 34,
   "id": "3089e9b1",
   "metadata": {},
   "outputs": [
    {
     "ename": "RayTaskError(ModuleNotFoundError)",
     "evalue": "\u001b[36mray::_get_reader()\u001b[39m (pid=7564, ip=127.0.0.1)\n  File \"python\\ray\\_raylet.pyx\", line 1616, in ray._raylet.execute_task\n  File \"c:\\Users\\brian\\miniconda3\\envs\\madewithml\\lib\\site-packages\\ray\\data\\read_api.py\", line 2348, in _get_reader\n    reader = ds.create_reader(**kwargs)\n  File \"c:\\Users\\brian\\miniconda3\\envs\\madewithml\\lib\\site-packages\\ray\\data\\datasource\\file_based_datasource.py\", line 256, in create_reader\n    return _FileBasedDatasourceReader(self, **kwargs)\n  File \"c:\\Users\\brian\\miniconda3\\envs\\madewithml\\lib\\site-packages\\ray\\data\\datasource\\file_based_datasource.py\", line 476, in __init__\n    _check_pyarrow_version()\n  File \"c:\\Users\\brian\\miniconda3\\envs\\madewithml\\lib\\site-packages\\ray\\data\\_internal\\util.py\", line 78, in _check_pyarrow_version\n    from pkg_resources._vendor.packaging.version import parse as parse_version\nModuleNotFoundError: No module named 'pkg_resources._vendor'",
     "output_type": "error",
     "traceback": [
      "\u001b[1;31m---------------------------------------------------------------------------\u001b[0m",
      "\u001b[1;31mRayTaskError(ModuleNotFoundError)\u001b[0m         Traceback (most recent call last)",
      "Cell \u001b[1;32mIn[34], line 2\u001b[0m\n\u001b[0;32m      1\u001b[0m \u001b[38;5;66;03m# Data ingestion\u001b[39;00m\n\u001b[1;32m----> 2\u001b[0m ds \u001b[38;5;241m=\u001b[39m \u001b[43mray\u001b[49m\u001b[38;5;241;43m.\u001b[39;49m\u001b[43mdata\u001b[49m\u001b[38;5;241;43m.\u001b[39;49m\u001b[43mread_csv\u001b[49m\u001b[43m(\u001b[49m\u001b[43mDATASET_LOC\u001b[49m\u001b[43m)\u001b[49m\n\u001b[0;32m      3\u001b[0m ds \u001b[38;5;241m=\u001b[39m ds\u001b[38;5;241m.\u001b[39mrandom_shuffle(seed\u001b[38;5;241m=\u001b[39m\u001b[38;5;241m1234\u001b[39m)\n\u001b[0;32m      4\u001b[0m ds\u001b[38;5;241m.\u001b[39mtake(\u001b[38;5;241m1\u001b[39m)\n",
      "File \u001b[1;32mc:\\Users\\brian\\miniconda3\\envs\\madewithml\\lib\\site-packages\\ray\\data\\read_api.py:1208\u001b[0m, in \u001b[0;36mread_csv\u001b[1;34m(paths, filesystem, parallelism, ray_remote_args, arrow_open_stream_args, meta_provider, partition_filter, partitioning, ignore_missing_paths, **arrow_csv_args)\u001b[0m\n\u001b[0;32m   1206\u001b[0m \u001b[38;5;28;01mif\u001b[39;00m meta_provider \u001b[38;5;129;01mis\u001b[39;00m \u001b[38;5;28;01mNone\u001b[39;00m:\n\u001b[0;32m   1207\u001b[0m     meta_provider \u001b[38;5;241m=\u001b[39m get_generic_metadata_provider(CSVDatasource\u001b[38;5;241m.\u001b[39m_FILE_EXTENSION)\n\u001b[1;32m-> 1208\u001b[0m \u001b[38;5;28;01mreturn\u001b[39;00m read_datasource(\n\u001b[0;32m   1209\u001b[0m     CSVDatasource(),\n\u001b[0;32m   1210\u001b[0m     parallelism\u001b[38;5;241m=\u001b[39mparallelism,\n\u001b[0;32m   1211\u001b[0m     paths\u001b[38;5;241m=\u001b[39mpaths,\n\u001b[0;32m   1212\u001b[0m     filesystem\u001b[38;5;241m=\u001b[39mfilesystem,\n\u001b[0;32m   1213\u001b[0m     ray_remote_args\u001b[38;5;241m=\u001b[39mray_remote_args,\n\u001b[0;32m   1214\u001b[0m     open_stream_args\u001b[38;5;241m=\u001b[39marrow_open_stream_args,\n\u001b[0;32m   1215\u001b[0m     meta_provider\u001b[38;5;241m=\u001b[39mmeta_provider,\n\u001b[0;32m   1216\u001b[0m     partition_filter\u001b[38;5;241m=\u001b[39mpartition_filter,\n\u001b[0;32m   1217\u001b[0m     partitioning\u001b[38;5;241m=\u001b[39mpartitioning,\n\u001b[0;32m   1218\u001b[0m     ignore_missing_paths\u001b[38;5;241m=\u001b[39mignore_missing_paths,\n\u001b[0;32m   1219\u001b[0m     \u001b[38;5;241m*\u001b[39m\u001b[38;5;241m*\u001b[39marrow_csv_args,\n\u001b[0;32m   1220\u001b[0m )\n",
      "File \u001b[1;32mc:\\Users\\brian\\miniconda3\\envs\\madewithml\\lib\\site-packages\\ray\\_private\\auto_init_hook.py:24\u001b[0m, in \u001b[0;36mwrap_auto_init.<locals>.auto_init_wrapper\u001b[1;34m(*args, **kwargs)\u001b[0m\n\u001b[0;32m     21\u001b[0m \u001b[38;5;129m@wraps\u001b[39m(fn)\n\u001b[0;32m     22\u001b[0m \u001b[38;5;28;01mdef\u001b[39;00m\u001b[38;5;250m \u001b[39m\u001b[38;5;21mauto_init_wrapper\u001b[39m(\u001b[38;5;241m*\u001b[39margs, \u001b[38;5;241m*\u001b[39m\u001b[38;5;241m*\u001b[39mkwargs):\n\u001b[0;32m     23\u001b[0m     auto_init_ray()\n\u001b[1;32m---> 24\u001b[0m     \u001b[38;5;28;01mreturn\u001b[39;00m fn(\u001b[38;5;241m*\u001b[39margs, \u001b[38;5;241m*\u001b[39m\u001b[38;5;241m*\u001b[39mkwargs)\n",
      "File \u001b[1;32mc:\\Users\\brian\\miniconda3\\envs\\madewithml\\lib\\site-packages\\ray\\data\\read_api.py:371\u001b[0m, in \u001b[0;36mread_datasource\u001b[1;34m(datasource, parallelism, ray_remote_args, **read_args)\u001b[0m\n\u001b[0;32m    363\u001b[0m     scheduling_strategy \u001b[38;5;241m=\u001b[39m NodeAffinitySchedulingStrategy(\n\u001b[0;32m    364\u001b[0m         ray\u001b[38;5;241m.\u001b[39mget_runtime_context()\u001b[38;5;241m.\u001b[39mget_node_id(),\n\u001b[0;32m    365\u001b[0m         soft\u001b[38;5;241m=\u001b[39m\u001b[38;5;28;01mFalse\u001b[39;00m,\n\u001b[0;32m    366\u001b[0m     )\n\u001b[0;32m    367\u001b[0m     get_reader \u001b[38;5;241m=\u001b[39m cached_remote_fn(\n\u001b[0;32m    368\u001b[0m         _get_reader, retry_exceptions\u001b[38;5;241m=\u001b[39m\u001b[38;5;28;01mFalse\u001b[39;00m, num_cpus\u001b[38;5;241m=\u001b[39m\u001b[38;5;241m0\u001b[39m\n\u001b[0;32m    369\u001b[0m     )\u001b[38;5;241m.\u001b[39moptions(scheduling_strategy\u001b[38;5;241m=\u001b[39mscheduling_strategy)\n\u001b[1;32m--> 371\u001b[0m     (requested_parallelism, min_safe_parallelism, inmemory_size, reader,) \u001b[38;5;241m=\u001b[39m \u001b[43mray\u001b[49m\u001b[38;5;241;43m.\u001b[39;49m\u001b[43mget\u001b[49m\u001b[43m(\u001b[49m\n\u001b[0;32m    372\u001b[0m \u001b[43m        \u001b[49m\u001b[43mget_reader\u001b[49m\u001b[38;5;241;43m.\u001b[39;49m\u001b[43mremote\u001b[49m\u001b[43m(\u001b[49m\n\u001b[0;32m    373\u001b[0m \u001b[43m            \u001b[49m\u001b[43mdatasource\u001b[49m\u001b[43m,\u001b[49m\n\u001b[0;32m    374\u001b[0m \u001b[43m            \u001b[49m\u001b[43mctx\u001b[49m\u001b[43m,\u001b[49m\n\u001b[0;32m    375\u001b[0m \u001b[43m            \u001b[49m\u001b[43mcur_pg\u001b[49m\u001b[43m,\u001b[49m\n\u001b[0;32m    376\u001b[0m \u001b[43m            \u001b[49m\u001b[43mparallelism\u001b[49m\u001b[43m,\u001b[49m\n\u001b[0;32m    377\u001b[0m \u001b[43m            \u001b[49m\u001b[43mlocal_uri\u001b[49m\u001b[43m,\u001b[49m\n\u001b[0;32m    378\u001b[0m \u001b[43m            \u001b[49m\u001b[43m_wrap_arrow_serialization_workaround\u001b[49m\u001b[43m(\u001b[49m\u001b[43mread_args\u001b[49m\u001b[43m)\u001b[49m\u001b[43m,\u001b[49m\n\u001b[0;32m    379\u001b[0m \u001b[43m        \u001b[49m\u001b[43m)\u001b[49m\n\u001b[0;32m    380\u001b[0m \u001b[43m    \u001b[49m\u001b[43m)\u001b[49m\n\u001b[0;32m    382\u001b[0m \u001b[38;5;66;03m# TODO(hchen/chengsu): Remove the duplicated get_read_tasks call here after\u001b[39;00m\n\u001b[0;32m    383\u001b[0m \u001b[38;5;66;03m# removing LazyBlockList code path.\u001b[39;00m\n\u001b[0;32m    384\u001b[0m read_tasks \u001b[38;5;241m=\u001b[39m reader\u001b[38;5;241m.\u001b[39mget_read_tasks(requested_parallelism)\n",
      "File \u001b[1;32mc:\\Users\\brian\\miniconda3\\envs\\madewithml\\lib\\site-packages\\ray\\_private\\auto_init_hook.py:24\u001b[0m, in \u001b[0;36mwrap_auto_init.<locals>.auto_init_wrapper\u001b[1;34m(*args, **kwargs)\u001b[0m\n\u001b[0;32m     21\u001b[0m \u001b[38;5;129m@wraps\u001b[39m(fn)\n\u001b[0;32m     22\u001b[0m \u001b[38;5;28;01mdef\u001b[39;00m\u001b[38;5;250m \u001b[39m\u001b[38;5;21mauto_init_wrapper\u001b[39m(\u001b[38;5;241m*\u001b[39margs, \u001b[38;5;241m*\u001b[39m\u001b[38;5;241m*\u001b[39mkwargs):\n\u001b[0;32m     23\u001b[0m     auto_init_ray()\n\u001b[1;32m---> 24\u001b[0m     \u001b[38;5;28;01mreturn\u001b[39;00m fn(\u001b[38;5;241m*\u001b[39margs, \u001b[38;5;241m*\u001b[39m\u001b[38;5;241m*\u001b[39mkwargs)\n",
      "File \u001b[1;32mc:\\Users\\brian\\miniconda3\\envs\\madewithml\\lib\\site-packages\\ray\\_private\\client_mode_hook.py:103\u001b[0m, in \u001b[0;36mclient_mode_hook.<locals>.wrapper\u001b[1;34m(*args, **kwargs)\u001b[0m\n\u001b[0;32m    101\u001b[0m     \u001b[38;5;28;01mif\u001b[39;00m func\u001b[38;5;241m.\u001b[39m\u001b[38;5;18m__name__\u001b[39m \u001b[38;5;241m!=\u001b[39m \u001b[38;5;124m\"\u001b[39m\u001b[38;5;124minit\u001b[39m\u001b[38;5;124m\"\u001b[39m \u001b[38;5;129;01mor\u001b[39;00m is_client_mode_enabled_by_default:\n\u001b[0;32m    102\u001b[0m         \u001b[38;5;28;01mreturn\u001b[39;00m \u001b[38;5;28mgetattr\u001b[39m(ray, func\u001b[38;5;241m.\u001b[39m\u001b[38;5;18m__name__\u001b[39m)(\u001b[38;5;241m*\u001b[39margs, \u001b[38;5;241m*\u001b[39m\u001b[38;5;241m*\u001b[39mkwargs)\n\u001b[1;32m--> 103\u001b[0m \u001b[38;5;28;01mreturn\u001b[39;00m func(\u001b[38;5;241m*\u001b[39margs, \u001b[38;5;241m*\u001b[39m\u001b[38;5;241m*\u001b[39mkwargs)\n",
      "File \u001b[1;32mc:\\Users\\brian\\miniconda3\\envs\\madewithml\\lib\\site-packages\\ray\\_private\\worker.py:2547\u001b[0m, in \u001b[0;36mget\u001b[1;34m(object_refs, timeout)\u001b[0m\n\u001b[0;32m   2545\u001b[0m     worker\u001b[38;5;241m.\u001b[39mcore_worker\u001b[38;5;241m.\u001b[39mdump_object_store_memory_usage()\n\u001b[0;32m   2546\u001b[0m \u001b[38;5;28;01mif\u001b[39;00m \u001b[38;5;28misinstance\u001b[39m(value, RayTaskError):\n\u001b[1;32m-> 2547\u001b[0m     \u001b[38;5;28;01mraise\u001b[39;00m value\u001b[38;5;241m.\u001b[39mas_instanceof_cause()\n\u001b[0;32m   2548\u001b[0m \u001b[38;5;28;01melse\u001b[39;00m:\n\u001b[0;32m   2549\u001b[0m     \u001b[38;5;28;01mraise\u001b[39;00m value\n",
      "\u001b[1;31mRayTaskError(ModuleNotFoundError)\u001b[0m: \u001b[36mray::_get_reader()\u001b[39m (pid=7564, ip=127.0.0.1)\n  File \"python\\ray\\_raylet.pyx\", line 1616, in ray._raylet.execute_task\n  File \"c:\\Users\\brian\\miniconda3\\envs\\madewithml\\lib\\site-packages\\ray\\data\\read_api.py\", line 2348, in _get_reader\n    reader = ds.create_reader(**kwargs)\n  File \"c:\\Users\\brian\\miniconda3\\envs\\madewithml\\lib\\site-packages\\ray\\data\\datasource\\file_based_datasource.py\", line 256, in create_reader\n    return _FileBasedDatasourceReader(self, **kwargs)\n  File \"c:\\Users\\brian\\miniconda3\\envs\\madewithml\\lib\\site-packages\\ray\\data\\datasource\\file_based_datasource.py\", line 476, in __init__\n    _check_pyarrow_version()\n  File \"c:\\Users\\brian\\miniconda3\\envs\\madewithml\\lib\\site-packages\\ray\\data\\_internal\\util.py\", line 78, in _check_pyarrow_version\n    from pkg_resources._vendor.packaging.version import parse as parse_version\nModuleNotFoundError: No module named 'pkg_resources._vendor'"
     ]
    }
   ],
   "source": [
    "# Data ingestion\n",
    "ds = ray.data.read_csv(DATASET_LOC)\n",
    "ds = ds.random_shuffle(seed=1234)\n",
    "ds.take(1)"
   ]
  }
 ],
 "metadata": {
  "kernelspec": {
   "display_name": "madewithml",
   "language": "python",
   "name": "python3"
  },
  "language_info": {
   "codemirror_mode": {
    "name": "ipython",
    "version": 3
   },
   "file_extension": ".py",
   "mimetype": "text/x-python",
   "name": "python",
   "nbconvert_exporter": "python",
   "pygments_lexer": "ipython3",
   "version": "3.10.11"
  }
 },
 "nbformat": 4,
 "nbformat_minor": 5
}
